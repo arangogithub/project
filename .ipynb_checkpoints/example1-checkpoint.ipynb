{
 "cells": [
  {
   "cell_type": "code",
   "execution_count": 1,
   "metadata": {
    "collapsed": false
   },
   "outputs": [],
   "source": [
    "import numpy as np\n",
    "import matplotlib.pyplot as plt\n",
    "import sympy as sp\n",
    "from sympy import init_printing\n",
    "from sympy import *"
   ]
  },
  {
   "cell_type": "code",
   "execution_count": 14,
   "metadata": {
    "collapsed": false
   },
   "outputs": [],
   "source": [
    "x, y, t = symbols('x y t')\n",
    "exprs_u = (1-(x**2+y**2))/4 + sp.log((x-2)**2+y**2)"
   ]
  },
  {
   "cell_type": "code",
   "execution_count": 15,
   "metadata": {
    "collapsed": true
   },
   "outputs": [],
   "source": [
    "exprs_du_theta = diff(exprs_u,x)*sp.cos(t) + diff(exprs_u,y)*sp.sin(t)"
   ]
  },
  {
   "cell_type": "code",
   "execution_count": 16,
   "metadata": {
    "collapsed": false
   },
   "outputs": [
    {
     "data": {
      "text/plain": [
       "-1"
      ]
     },
     "execution_count": 16,
     "metadata": {},
     "output_type": "execute_result"
    }
   ],
   "source": [
    "simplify(diff(exprs_u, x,x)+ diff(exprs_u, y,y))"
   ]
  },
  {
   "cell_type": "code",
   "execution_count": 26,
   "metadata": {
    "collapsed": false
   },
   "outputs": [],
   "source": [
    "u = lambdify((x, y), exprs_u, \"numpy\") \n",
    "du_t = lambdify((t,x, y), exprs_du_theta, \"numpy\")    "
   ]
  },
  {
   "cell_type": "code",
   "execution_count": 27,
   "metadata": {
    "collapsed": false
   },
   "outputs": [],
   "source": [
    "xx, yy  = np.linspace(-1,1,5), np.linspace(-1,1,5)\n",
    "X, Y = np.meshgrid(xx, yy)\n",
    "Z = du_t(0.5, X,Y)"
   ]
  },
  {
   "cell_type": "code",
   "execution_count": 28,
   "metadata": {
    "collapsed": false
   },
   "outputs": [],
   "source": [
    "manual_locations = [(0.5, 0.0), (-0.5, -0.0), (0, 0.5), (0.5, 0.5)]\n",
    "\n",
    "line_colours = ('BlueViolet', 'Crimson', 'ForestGreen', 'Indigo')\n",
    "\n",
    "line_widths = (1, 1.5, 2, 2.5)\n",
    "plt.figure()\n",
    "CS = plt.contour(X,Y, Z, 4,                     # levels lot plot\n",
    "                 linewidths=line_widths,            # line widths\n",
    "                 colors = line_colours                  # line widths\n",
    "                 )\n",
    "plt.clabel(CS, inline=1,                            # add labels\n",
    "          fontsize=10,                             # label font size \n",
    "          manual=manual_locations)                 # label locations\n",
    "plt.title('Contour Plot - customized lines')        # title\n",
    "\n",
    "plt.show()"
   ]
  },
  {
   "cell_type": "code",
   "execution_count": null,
   "metadata": {
    "collapsed": true
   },
   "outputs": [],
   "source": []
  }
 ],
 "metadata": {
  "kernelspec": {
   "display_name": "Python 2",
   "language": "python",
   "name": "python2"
  },
  "language_info": {
   "codemirror_mode": {
    "name": "ipython",
    "version": 2
   },
   "file_extension": ".py",
   "mimetype": "text/x-python",
   "name": "python",
   "nbconvert_exporter": "python",
   "pygments_lexer": "ipython2",
   "version": "2.7.11"
  }
 },
 "nbformat": 4,
 "nbformat_minor": 0
}
